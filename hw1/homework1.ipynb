{
 "cells": [
  {
   "cell_type": "markdown",
   "metadata": {},
   "source": [
    "# Homework 1\n",
    "\n"
   ]
  },
  {
   "cell_type": "code",
   "execution_count": 71,
   "metadata": {},
   "outputs": [
    {
     "data": {
      "text/plain": [
       "defined trait Nat\n",
       "defined object Zero\n",
       "defined class Succ\n",
       "one: Succ = Succ(Zero)\n",
       "two: Succ = Succ(Succ(Zero))\n",
       "three: Succ = Succ(Succ(Succ(Zero)))\n",
       "four: Succ = Succ(Succ(Succ(Succ(Zero))))\n",
       "five: Succ = Succ(Succ(Succ(Succ(Succ(Zero)))))\n",
       "plus: (x: Nat, y: Nat)Nat\n"
      ]
     },
     "execution_count": 71,
     "metadata": {},
     "output_type": "execute_result"
    }
   ],
   "source": [
    "sealed trait Nat\n",
    "case object Zero extends Nat\n",
    "case class Succ(pred : Nat) extends Nat\n",
    "\n",
    "val one = Succ(Zero)\n",
    "val two = Succ(one)\n",
    "val three = Succ(two)\n",
    "val four = Succ(three)\n",
    "val five = Succ(four)\n",
    "\n",
    "def plus(x : Nat, y : Nat) : Nat = x match {\n",
    "    case Zero    => y\n",
    "    case Succ(x) => Succ(plus(x, y))\n",
    "}"
   ]
  },
  {
   "cell_type": "markdown",
   "metadata": {},
   "source": [
    "The following code is a function to pretty-print natural numbers. Feel\n",
    "free to use these to test your implementations.\n",
    "There is a similiar function for lists defined below. Please ignore the \n",
    "helper functions. They use some tricks to make it easy to implement this\n",
    "functionality. How they work will be explained at a later point."
   ]
  },
  {
   "cell_type": "code",
   "execution_count": 72,
   "metadata": {},
   "outputs": [
    {
     "data": {
      "text/plain": [
       "nat_to_int: (x: Nat)Int\n",
       "print_nat: (x: Nat)String\n",
       "res16: String = 4\n"
      ]
     },
     "execution_count": 72,
     "metadata": {},
     "output_type": "execute_result"
    }
   ],
   "source": [
    "def nat_to_int(x : Nat) : Int = x match {\n",
    "    case Zero => 0\n",
    "    case Succ( x ) => 1 + nat_to_int(x)\n",
    "}\n",
    "\n",
    "def print_nat(x : Nat) : String = nat_to_int(x).toString\n",
    "\n",
    "print_nat(four)"
   ]
  },
  {
   "cell_type": "markdown",
   "metadata": {},
   "source": [
    "## Natural Numbers\n",
    "\n",
    "Write some functions on natural numbers. For better visualization you can use the print_nat function provided above to see these numbers in the base-10 system.\n",
    "\n",
    "## Problem 1: Multiplication\n",
    "\n",
    "Given the definition of plus above, write the multiplication function"
   ]
  },
  {
   "cell_type": "code",
   "execution_count": 73,
   "metadata": {},
   "outputs": [
    {
     "data": {
      "text/plain": [
       "mult: (x: Nat, y: Nat)Nat\n",
       "int_to_nat: (x: Int)Nat\n"
      ]
     },
     "execution_count": 73,
     "metadata": {},
     "output_type": "execute_result"
    }
   ],
   "source": [
    "def mult(x : Nat, y : Nat) : Nat = { \n",
    "    val res = nat_to_int(x) * nat_to_int(y);\n",
    "    int_to_nat(res)\n",
    "};\n",
    "\n",
    "def int_to_nat(x : Int) : Nat = x match {\n",
    "    case 0 => Zero\n",
    "    case _ => Succ(int_to_nat(x - 1))\n",
    "}"
   ]
  },
  {
   "cell_type": "code",
   "execution_count": 74,
   "metadata": {},
   "outputs": [
    {
     "data": {
      "text/plain": [
       "res17: String = 25\n"
      ]
     },
     "execution_count": 74,
     "metadata": {},
     "output_type": "execute_result"
    }
   ],
   "source": [
    "print_nat(mult(five, four)) // Should be 20\n",
    "print_nat(mult(five, five)) // Should be 25"
   ]
  },
  {
   "cell_type": "markdown",
   "metadata": {},
   "source": [
    "In this first homework we will work more on writing datatypes and functions over them\n",
    "\n",
    "## Lists\n",
    "\n",
    "Here is the definition of lists of numbers that was given in class:\n",
    "\n",
    "$$\n",
    "\\begin{align}\n",
    "\\text{List}\\ :=&\\ \\text{Empty}\\\\\n",
    "\\mid&\\ \\text{Cons}\\ \\mathbb{N}\\ \\text{List}\n",
    "\\end{align}\n",
    "$$\n",
    "\n",
    "## Problem 2: Defining List\n",
    "\n",
    "Define lists in Scala.  If you need help, try looking at the notebook from the recitation"
   ]
  },
  {
   "cell_type": "code",
   "execution_count": 75,
   "metadata": {},
   "outputs": [
    {
     "data": {
      "text/plain": [
       "defined trait List\n",
       "defined object Empty\n",
       "defined class Cons\n"
      ]
     },
     "execution_count": 75,
     "metadata": {},
     "output_type": "execute_result"
    }
   ],
   "source": [
    "sealed trait List\n",
    "case object Empty extends List\n",
    "case class Cons(x : Succ, y : List) extends List"
   ]
  },
  {
   "cell_type": "markdown",
   "metadata": {},
   "source": [
    "If you've defined this correctly, the following examples should compile and pretty-print"
   ]
  },
  {
   "cell_type": "code",
   "execution_count": 76,
   "metadata": {},
   "outputs": [
    {
     "data": {
      "text/plain": [
       "ex1: Cons\n",
       "ex2: Cons\n",
       "ex3: Empty.type\n"
      ]
     },
     "execution_count": 76,
     "metadata": {},
     "output_type": "execute_result"
    }
   ],
   "source": [
    "def ex1 = Cons(one, Cons(two, Cons(three, Cons(four, Cons(five, Empty)))))\n",
    "def ex2 = Cons(one, Empty)\n",
    "def ex3 = Empty"
   ]
  },
  {
   "cell_type": "markdown",
   "metadata": {},
   "source": [
    "### List Prettyprinting\n",
    "\n",
    "Here is a pretty printer for lists. You should be able to make sense of what it is doing. Feel free to use it going forward."
   ]
  },
  {
   "cell_type": "code",
   "execution_count": 77,
   "metadata": {},
   "outputs": [
    {
     "data": {
      "text/plain": [
       "print_list_helper: (xs: List)String\n",
       "print_list: (xs: List)String\n"
      ]
     },
     "execution_count": 77,
     "metadata": {},
     "output_type": "execute_result"
    }
   ],
   "source": [
    "def print_list_helper(xs : List) : String = xs match {\n",
    "    case Empty => \"\"\n",
    "    case Cons(x, Empty) => print_nat(x)\n",
    "    case Cons(x, xs) => print_nat(x) + \", \" + print_list_helper(xs)\n",
    "}\n",
    "\n",
    "def print_list(xs : List) : String = \"[\" + print_list_helper(xs) + \"]\""
   ]
  },
  {
   "cell_type": "markdown",
   "metadata": {},
   "source": [
    "If you defined the list datatype correctly, the following cell should print each list in a more human-readable way."
   ]
  },
  {
   "cell_type": "code",
   "execution_count": 78,
   "metadata": {},
   "outputs": [
    {
     "data": {
      "text/plain": [
       "res18: String = []\n"
      ]
     },
     "execution_count": 78,
     "metadata": {},
     "output_type": "execute_result"
    }
   ],
   "source": [
    "print_list(ex1)\n",
    "print_list(ex2)\n",
    "print_list(ex3)"
   ]
  },
  {
   "cell_type": "markdown",
   "metadata": {},
   "source": [
    "## Problem 3: Length\n",
    "\n",
    "Write the length function for lists. This function should take in a List and return its length as a Nat."
   ]
  },
  {
   "cell_type": "code",
   "execution_count": 79,
   "metadata": {},
   "outputs": [
    {
     "data": {
      "text/plain": [
       "length: (x: List)Nat\n"
      ]
     },
     "execution_count": 79,
     "metadata": {},
     "output_type": "execute_result"
    }
   ],
   "source": [
    "def length(x : List) : Nat = x match {\n",
    "    case Empty => Zero\n",
    "    case Cons(x, Empty) => Succ(Zero)\n",
    "    case Cons(x, list) => Succ(length(list))\n",
    "}"
   ]
  },
  {
   "cell_type": "code",
   "execution_count": 80,
   "metadata": {},
   "outputs": [
    {
     "data": {
      "text/plain": [
       "res19: String = 5\n"
      ]
     },
     "execution_count": 80,
     "metadata": {},
     "output_type": "execute_result"
    }
   ],
   "source": [
    "print_nat(length(Empty))\n",
    "\n",
    "print_nat(length(ex1))"
   ]
  },
  {
   "cell_type": "markdown",
   "metadata": {},
   "source": [
    "## Problem 4: Init\n",
    "\n",
    "Write a function that removes the last element in the list"
   ]
  },
  {
   "cell_type": "code",
   "execution_count": 82,
   "metadata": {},
   "outputs": [
    {
     "data": {
      "text/plain": [
       "init: (x: List)List\n"
      ]
     },
     "execution_count": 82,
     "metadata": {},
     "output_type": "execute_result"
    }
   ],
   "source": [
    "def init(x : List) : List = x match {\n",
    "    case Empty => Empty\n",
    "    case Cons(i, Empty) => Empty\n",
    "    case Cons(i, list) => Cons(i, init(list))\n",
    "}"
   ]
  },
  {
   "cell_type": "code",
   "execution_count": 85,
   "metadata": {},
   "outputs": [
    {
     "data": {
      "text/plain": [
       "res22: String = []\n"
      ]
     },
     "execution_count": 85,
     "metadata": {},
     "output_type": "execute_result"
    }
   ],
   "source": [
    "print_list(init(ex1)) // should be [1, 2, 3, 4]\n",
    "print_list(init(ex2)) // should be [ ]"
   ]
  },
  {
   "cell_type": "markdown",
   "metadata": {},
   "source": [
    "## Problem 5: Last\n",
    "\n",
    "define the function which returns a singleton list containing the last element of a list.\n",
    "\n",
    "Some Examples:\n",
    "\n",
    "* \\[ 1, 2, 3, 4 \\] -> \\[ 4 \\]\n",
    "* \\[ \\] -> \\[ \\]\n",
    "* \\[ 1 \\] -> \\[ 1 \\]"
   ]
  },
  {
   "cell_type": "code",
   "execution_count": 92,
   "metadata": {},
   "outputs": [
    {
     "data": {
      "text/plain": [
       "last: (x: List)List\n"
      ]
     },
     "execution_count": 92,
     "metadata": {},
     "output_type": "execute_result"
    }
   ],
   "source": [
    "def last(x : List) : List = x match {\n",
    "    case Empty => Empty\n",
    "    case Cons(i, Empty) => x\n",
    "    case Cons(i, x) => last(x)\n",
    "}"
   ]
  },
  {
   "cell_type": "code",
   "execution_count": 95,
   "metadata": {},
   "outputs": [
    {
     "data": {
      "text/plain": [
       "res29: String = []\n"
      ]
     },
     "execution_count": 95,
     "metadata": {},
     "output_type": "execute_result"
    }
   ],
   "source": [
    "print_list(last(ex1))\n",
    "print_list(last(ex2))\n",
    "print_list(last(ex3))"
   ]
  },
  {
   "cell_type": "markdown",
   "metadata": {},
   "source": [
    "## Bonus Problem: Append two lists\n",
    "\n",
    "Hint: You might want to use init and last to do this"
   ]
  },
  {
   "cell_type": "code",
   "execution_count": null,
   "metadata": {},
   "outputs": [],
   "source": []
  },
  {
   "cell_type": "code",
   "execution_count": null,
   "metadata": {},
   "outputs": [],
   "source": [
    "print_list(append(ex1, Cons(Succ(five), Cons(three, Cons(Zero, Empty)))))"
   ]
  }
 ],
 "metadata": {
  "kernelspec": {
   "display_name": "spylon-kernel",
   "language": "scala",
   "name": "spylon-kernel"
  },
  "language_info": {
   "codemirror_mode": "text/x-scala",
   "file_extension": ".scala",
   "help_links": [
    {
     "text": "MetaKernel Magics",
     "url": "https://metakernel.readthedocs.io/en/latest/source/README.html"
    }
   ],
   "mimetype": "text/x-scala",
   "name": "scala",
   "pygments_lexer": "scala",
   "version": "0.4.1"
  }
 },
 "nbformat": 4,
 "nbformat_minor": 2
}
