{
 "cells": [
  {
   "cell_type": "code",
   "execution_count": null,
   "metadata": {},
   "outputs": [
    {
     "data": {
      "text/plain": [
       "Intitializing Scala interpreter ..."
      ]
     },
     "metadata": {},
     "output_type": "display_data"
    }
   ],
   "source": [
    "sealed trait Nat\n",
    "case object Zero extends Nat\n",
    "case class Succ(pred : Nat) extends Nat\n",
    "\n",
    "val one = Succ(Zero)\n",
    "val two = Succ(one)\n",
    "val three = Succ(two)\n",
    "val four = Succ(three)\n",
    "val five = Succ(four)\n",
    "val six = Succ(five)\n",
    "val seven = Succ(six)\n",
    "val eight = Succ(seven)\n",
    "val nine = Succ(eight)\n",
    "val ten = Succ(nine)\n",
    "\n",
    "def plus(x : Nat, y : Nat) : Nat = x match {\n",
    "    case Zero    => y\n",
    "    case Succ(x) => Succ(plus(x, y))\n",
    "}\n",
    "\n",
    "def nat_to_int(x : Nat) : Int = x match {\n",
    "    case Zero => 0\n",
    "    case Succ( x ) => 1 + nat_to_int(x)\n",
    "}\n",
    "\n",
    "def print_nat(x : Nat) : String = nat_to_int(x).toString\n",
    "\n",
    "def mult(x : Nat, y : Nat) : Nat = x match {\n",
    "    case Zero    => Zero\n",
    "    case Succ(x) => plus(mult(x,y), y)\n",
    "}\n",
    "\n",
    "\n",
    "// Booleans\n",
    "\n",
    "sealed trait Bool\n",
    "case object True extends Bool\n",
    "case object False extends Bool\n",
    "\n",
    "def t = True\n",
    "def f = False\n",
    "\n",
    "def id(x : Bool) : Bool = x\n",
    "\n",
    "def not(x : Bool) : Bool = x match {\n",
    "    case True => False\n",
    "    case False => True\n",
    "}\n",
    "\n",
    "def and(x : Bool, y : Bool) : Bool = (x,y) match {\n",
    "    case (True, True) => True\n",
    "    case _ => False\n",
    "}\n",
    "\n",
    "def or(x : Bool, y : Bool) : Bool = (x, y) match {\n",
    "    case (False, False) => False\n",
    "    case _              => True\n",
    "}\n",
    "\n",
    "def xor(x : Bool, y : Bool) : Bool = (x, y) match{\n",
    "    case (True, False) => True\n",
    "    case (False, True) => True\n",
    "    case _ => False\n",
    "}\n",
    "\n",
    "def nand(x : Bool, y : Bool) : Bool = not(and(x,y))"
   ]
  },
  {
   "cell_type": "code",
   "execution_count": null,
   "metadata": {},
   "outputs": [],
   "source": []
  }
 ],
 "metadata": {
  "kernelspec": {
   "display_name": "spylon-kernel",
   "language": "scala",
   "name": "spylon-kernel"
  },
  "language_info": {
   "codemirror_mode": "text/x-scala",
   "file_extension": ".scala",
   "help_links": [
    {
     "text": "MetaKernel Magics",
     "url": "https://metakernel.readthedocs.io/en/latest/source/README.html"
    }
   ],
   "mimetype": "text/x-scala",
   "name": "scala",
   "pygments_lexer": "scala",
   "version": "0.4.1"
  }
 },
 "nbformat": 4,
 "nbformat_minor": 2
}
