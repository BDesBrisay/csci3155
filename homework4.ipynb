{
 "cells": [
  {
   "cell_type": "code",
   "execution_count": 1,
   "metadata": {
    "deletable": false,
    "editable": false,
    "nbgrader": {
     "checksum": "1d2c2f3c7c34dbe7e67c5a443fcf61b9",
     "grade": false,
     "grade_id": "cell-597e59ae79505596",
     "locked": true,
     "schema_version": 1,
     "solution": false
    }
   },
   "outputs": [
    {
     "ename": "<console>",
     "evalue": "89",
     "output_type": "error",
     "text": "<console>:89: error: not found: value $file\n       import $file.hw4stdlib\n              ^\n<console>:90: error: not found: value hw4stdlib\n       import hw4stdlib._\n              ^\n",
     "traceback": [
      "\u001b[1;31m<console>:89: error: not found: value $file\u001b[0;0m",
      "\u001b[1;31m       import $file.hw4stdlib\u001b[0;0m",
      "\u001b[1;31m              ^\u001b[0;0m",
      "\u001b[1;31m<console>:90: error: not found: value hw4stdlib\u001b[0;0m",
      "\u001b[1;31m       import hw4stdlib._\u001b[0;0m",
      "\u001b[1;31m              ^\u001b[0;0m"
     ]
    }
   ],
   "source": [
    "import $file.hw4stdlib\n",
    "import hw4stdlib._"
   ]
  },
  {
   "cell_type": "code",
   "execution_count": 1,
   "metadata": {},
   "outputs": [
    {
     "data": {
      "text/plain": [
       "defined trait Nat\n",
       "defined object Zero\n",
       "defined class Succ\n",
       "one: Succ = Succ(Zero)\n",
       "two: Succ = Succ(Succ(Zero))\n",
       "three: Succ = Succ(Succ(Succ(Zero)))\n",
       "four: Succ = Succ(Succ(Succ(Succ(Zero))))\n",
       "five: Succ = Succ(Succ(Succ(Succ(Succ(Zero)))))\n",
       "six: Succ = Succ(Succ(Succ(Succ(Succ(Succ(Zero))))))\n",
       "seven: Succ = Succ(Succ(Succ(Succ(Succ(Succ(Succ(Zero)))))))\n",
       "eight: Succ = Succ(Succ(Succ(Succ(Succ(Succ(Succ(Succ(Zero))))))))\n",
       "nine: Succ = Succ(Succ(Succ(Succ(Succ(Succ(Succ(Succ(Succ(Zero)))))))))\n",
       "ten: Succ = Succ(Succ(Succ(Succ(Succ(Succ(Succ(Succ(Succ(Succ(Zero))))))))))\n",
       "nat_plus: (x: Nat, y: Nat)Nat\n",
       "nat_to_int: (x: Nat)Int\n",
       "nat_to_str: (x: Nat)String\n",
       "print_nat: (x: Nat)Unit\n",
       "nat_mult: (x: Nat, y: Nat)Nat\n",
       "nat_minus: (x: Nat, y: Nat)Nat\n",
       "nat_pow: (x: Nat, y: Nat)Nat\n",
       "nat_lte: (x: Nat, y: Nat)Bool\n",
       "define..."
      ]
     },
     "execution_count": 1,
     "metadata": {},
     "output_type": "execute_result"
    }
   ],
   "source": [
    "\n",
    "// Nats\n",
    "\n",
    "sealed trait Nat\n",
    "case object Zero extends Nat\n",
    "case class Succ(pred : Nat) extends Nat\n",
    "\n",
    "val one = Succ(Zero)\n",
    "val two = Succ(one)\n",
    "val three = Succ(two)\n",
    "val four = Succ(three)\n",
    "val five = Succ(four)\n",
    "val six = Succ(five)\n",
    "val seven = Succ(six)\n",
    "val eight = Succ(seven)\n",
    "val nine = Succ(eight)\n",
    "val ten = Succ(nine)\n",
    "\n",
    "def nat_plus(x : Nat, y : Nat) : Nat = x match {\n",
    "    case Zero    => y\n",
    "    case Succ(x) => Succ(nat_plus(x, y))\n",
    "}\n",
    "\n",
    "def nat_to_int(x : Nat) : Int = x match {\n",
    "    case Zero => 0\n",
    "    case Succ( x ) => 1 + nat_to_int(x)\n",
    "}\n",
    "\n",
    "def nat_to_str(x : Nat) = nat_to_int(x).toString()\n",
    "\n",
    "def print_nat(x : Nat) = println(nat_to_str(x))\n",
    "\n",
    "def nat_mult(x : Nat, y : Nat) : Nat = x match {\n",
    "    case Zero    => Zero\n",
    "    case Succ(x) => nat_plus(nat_mult(x,y), y)\n",
    "}\n",
    "\n",
    "\n",
    "def nat_minus(x : Nat, y : Nat) : Nat = (x, y) match {\n",
    "    case (Zero, _)          => Zero\n",
    "    case (x, Zero)          => x\n",
    "    case (Succ(x), Succ(y)) => nat_minus(x, y)\n",
    "}\n",
    "\n",
    "def nat_pow(x : Nat, y : Nat) : Nat = x match {\n",
    "    case Zero       => one\n",
    "    case Succ(Zero) => y \n",
    "    case Succ(x)    => nat_mult(y, nat_pow(x, y))\n",
    "}\n",
    "\n",
    "def nat_lte(x : Nat, y : Nat) : Bool = (x, y) match {\n",
    "    case (Zero, y)          => True\n",
    "    case (x, Zero)          => False\n",
    "    case (Succ(x), Succ(y)) => nat_lte(x, y)\n",
    "}\n",
    "\n",
    "// Booleans\n",
    "\n",
    "sealed trait Bool\n",
    "case object True extends Bool\n",
    "case object False extends Bool\n",
    "\n",
    "def t = True\n",
    "def f = False\n",
    "\n",
    "def id(x : Bool) : Bool = x\n",
    "\n",
    "def not(x : Bool) : Bool = x match {\n",
    "    case True => False\n",
    "    case False => True\n",
    "}\n",
    "\n",
    "def and(x : Bool, y : Bool) : Bool = (x,y) match {\n",
    "    case (True, True) => True\n",
    "    case _ => False\n",
    "}\n",
    "\n",
    "def or(x : Bool, y : Bool) : Bool = (x, y) match {\n",
    "    case (False, False) => False\n",
    "    case _              => True\n",
    "}\n",
    "\n",
    "def xor(x : Bool, y : Bool) : Bool = (x, y) match{\n",
    "    case (True, False) => True\n",
    "    case (False, True) => True\n",
    "    case _ => False\n",
    "}\n",
    "\n",
    "def nand(x : Bool, y : Bool) : Bool = not(and(x,y))\n",
    "\n",
    "def lte(x: Nat, y: Nat): Bool = (x, y) match {\n",
    "    case (Zero, _) => True\n",
    "    case (_, Zero) => False\n",
    "    case (Succ(p1), Succ(p2)) => lte(p1, p2)\n",
    "}\n",
    "\n",
    "// Lists\n",
    "\n",
    "sealed trait List[+A]\n",
    "case object Empty extends List[Nothing]\n",
    "case class Cons[A](x : A, xs : List[A]) extends List[A]\n",
    "\n",
    "def length[A](xs : List[A]) : Nat = xs match {\n",
    "    case Empty => Zero\n",
    "    case Cons(_, xs) => Succ(length(xs))\n",
    "}\n",
    "\n",
    "def append[A](xs : List[A], ys : List[A]) : List[A] = xs match {\n",
    "    case Empty => ys\n",
    "    case Cons(x, xs) => Cons(x, append(xs, ys))\n",
    "}\n",
    "\n",
    "def fold[A, B](f : ((A, B) => B), acc : B, xs : List[A]) : B = xs match {\n",
    "    case Empty       => acc\n",
    "    case Cons(x, xs) => fold(f, f(x, acc), xs)\n",
    "}\n",
    "\n",
    "def map[A,B](f : (A => B), xs : List[A]) : List[B] = xs match {\n",
    "    case Empty => Empty\n",
    "    case Cons(x, xs) => Cons(f(x), map(f,xs))\n",
    "}\n",
    "\n",
    "def filter[A](p : (A => Bool), xs : List[A]) : List[A] = xs match {\n",
    "    case Empty       => Empty\n",
    "    case Cons(x, xs) => p(x) match {\n",
    "        case True  => Cons(x, filter(p, xs))\n",
    "        case False => filter(p, xs)\n",
    "    }\n",
    "}\n",
    "\n",
    "def reverse[A](xs : List[A]) : List[A] =\n",
    "    fold(Cons(_: A, _: List[A]), Empty, xs)\n",
    "\n",
    "// Maybe\n",
    "sealed trait Maybe[+A]\n",
    "case object None extends Maybe[Nothing]\n",
    "case class Just[A](x : A) extends Maybe[A]\n",
    "\n",
    "def map_maybe[A,B](f : (A => B), mx : Maybe[A]) : Maybe[B] = mx match {\n",
    "    case None => None\n",
    "    case Just(x) => Just(f(x))\n",
    "}\n",
    "\n",
    "// Products\n",
    "\n",
    "sealed trait Pair[+A, +B]\n",
    "case class MkPair[A, B](fst : A, snd : B) extends Pair[A, B]\n",
    "\n",
    "// Sums\n",
    "\n",
    "sealed trait Either[+A, +B]\n",
    "case class Left[A, B](left : A) extends Either[A, B]\n",
    "case class Right[A, B](right : B) extends Either[A, B]\n",
    "\n",
    "// TEST HELPER\n",
    "def passed(points: Int) {\n",
    "    require(points >=0)\n",
    "    if (points == 1) print(s\"\\n*** Tests Passed (1 point) ***\\n\")\n",
    "    else print(s\"\\n*** Tests Passed ($points points) ***\\n\")\n",
    "}\n"
   ]
  },
  {
   "cell_type": "markdown",
   "metadata": {
    "deletable": false,
    "editable": false,
    "nbgrader": {
     "checksum": "b0fb4d76de2c28d9152bee694c77ec21",
     "grade": false,
     "grade_id": "cell-2c05ba4d46efec6c",
     "locked": true,
     "schema_version": 1,
     "solution": false
    }
   },
   "source": [
    "# Homework 4\n",
    "\n",
    "This is a longer assignment due to the exam.\n",
    "Due 10/3 at 11:59pm\n",
    "\n",
    "## Submission Instructions\n",
    "Upload only this .ipynb file to Canvas. Do not add anything to stdlib since you can't submit it.\n",
    "\n",
    "In this homework we will define integers and their operations, then build an interpreter.\n",
    "\n",
    "See [This link](https://www.notion.so/Guidelines-for-Programming-Homework-dbd25efa7bb24915ae6bcb06827fc5b6) for what is and isn't allowed in your code. "
   ]
  },
  {
   "cell_type": "markdown",
   "metadata": {
    "deletable": false,
    "editable": false,
    "nbgrader": {
     "checksum": "7d76ed463474ffc18781ef10f533b157",
     "grade": false,
     "grade_id": "cell-66e4b323026583ec",
     "locked": true,
     "schema_version": 1,
     "solution": false
    }
   },
   "source": [
    "## Problem 1 (20 pts)\n",
    "\n",
    "For the arithmetic interpreter we will write later on in the homework we will need arithmetic operations for the integers. These will obviously correspond very closely to the operations defined on the Natural Numbers. But now we will need to account for negative numbers in a proper way. \n",
    "\n",
    "Start by defining the Algebraic Datatype(sealed trait with case classes) for the Integers. The encoded type should be:\n",
    "\n",
    "$$\n",
    "\\begin{align}\n",
    "    \\mathbb{Z} ::=&\\ \\text{Positive}\\ \\mathbb{N}\\\\\n",
    "    \\mid&\\ \\text{Negative}\\ \\mathbb{N}\n",
    "\\end{align}\n",
    "$$\n",
    "\n",
    "We will use this encoding because it will allow us to use some of our definitions for the Natural Numbers to define the operations on the Integers. This is the core strategy of functional programming: using smaller functions to build up larger ones. This is true even across types. We want to always minimize the ammount of code we have be reusing what we have already constructed, whenever possible. "
   ]
  },
  {
   "cell_type": "markdown",
   "metadata": {
    "deletable": false,
    "editable": false,
    "nbgrader": {
     "checksum": "1f8cc630de1362d374b9b0dade480f7e",
     "grade": false,
     "grade_id": "cell-806b50f4e9f1e1e9",
     "locked": true,
     "schema_version": 1,
     "solution": false
    }
   },
   "source": [
    "### 1a\n",
    "\n",
    "Define the ADT for Integers below: "
   ]
  },
  {
   "cell_type": "code",
   "execution_count": 2,
   "metadata": {
    "deletable": false,
    "nbgrader": {
     "checksum": "eb656befbf8b25ef16ddf5262728bb86",
     "grade": false,
     "grade_id": "cell-9ee3e730ef837143",
     "locked": false,
     "schema_version": 1,
     "solution": true
    }
   },
   "outputs": [
    {
     "data": {
      "text/plain": [
       "defined trait Integer\n",
       "defined class Positive\n",
       "defined class Negative\n"
      ]
     },
     "execution_count": 2,
     "metadata": {},
     "output_type": "execute_result"
    }
   ],
   "source": [
    "// YOUR CODE HERE\n",
    "sealed trait Integer\n",
    "case class Positive(x : Nat) extends Integer\n",
    "case class Negative(x : Nat) extends Integer"
   ]
  },
  {
   "cell_type": "code",
   "execution_count": 3,
   "metadata": {
    "deletable": false,
    "editable": false,
    "nbgrader": {
     "checksum": "4519b46504e2b8070c52d1aeeb13ed1e",
     "grade": true,
     "grade_id": "cell-cdc9d6798e91c35c",
     "locked": true,
     "points": 3,
     "schema_version": 1,
     "solution": false
    }
   },
   "outputs": [
    {
     "name": "stdout",
     "output_type": "stream",
     "text": [
      "1\n",
      "-1\n",
      "\n",
      "*** Tests Passed (3 points) ***\n"
     ]
    },
    {
     "data": {
      "text/plain": [
       "null"
      ]
     },
     "execution_count": 3,
     "metadata": {},
     "output_type": "execute_result"
    }
   ],
   "source": [
    "def ione : Integer = Positive(Succ(Zero))\n",
    "def ineg_one : Integer = Negative(Succ(Zero))\n",
    "\n",
    "def int_to_str(x : Integer) : String = x match {\n",
    "    case Positive(x) => nat_to_str(x)\n",
    "    case Negative(x) => \"-\" + nat_to_str(x)\n",
    "}\n",
    "\n",
    "def print_integer(x : Integer) = println(int_to_str(x))\n",
    "\n",
    "print_integer(ione)\n",
    "print_integer(ineg_one)\n",
    "passed(3)"
   ]
  },
  {
   "cell_type": "markdown",
   "metadata": {
    "deletable": false,
    "editable": false,
    "nbgrader": {
     "checksum": "03ff321be6786945e3715859eaea9b33",
     "grade": false,
     "grade_id": "cell-96873b437fb55c06",
     "locked": true,
     "schema_version": 1,
     "solution": false
    }
   },
   "source": [
    "### Absolute Value and Negation\n",
    "\n",
    "Below are defined the absolute value function and a negation function"
   ]
  },
  {
   "cell_type": "code",
   "execution_count": 4,
   "metadata": {
    "deletable": false,
    "editable": false,
    "nbgrader": {
     "checksum": "de8fc1fbd67d179c6989bb788307956e",
     "grade": false,
     "grade_id": "cell-0584ce98a22a973a",
     "locked": true,
     "schema_version": 1,
     "solution": false
    }
   },
   "outputs": [
    {
     "data": {
      "text/plain": [
       "abs: (x: Integer)Nat\n",
       "negate: (x: Integer)Integer\n"
      ]
     },
     "execution_count": 4,
     "metadata": {},
     "output_type": "execute_result"
    }
   ],
   "source": [
    "def abs(x : Integer) : Nat = x match {\n",
    "    case Positive(x) => x\n",
    "    case Negative(x) => x\n",
    "}\n",
    "\n",
    "def negate(x : Integer) : Integer = x match {\n",
    "    case Positive(x) => Negative(x)\n",
    "    case Negative(x) => Positive(x)\n",
    "}"
   ]
  },
  {
   "cell_type": "markdown",
   "metadata": {
    "deletable": false,
    "editable": false,
    "nbgrader": {
     "checksum": "656725e7b688bd3b0f9c294b72b50b42",
     "grade": false,
     "grade_id": "cell-dda9d34dce2f24b2",
     "locked": true,
     "schema_version": 1,
     "solution": false
    }
   },
   "source": [
    "### 1b: Addition\n",
    "\n",
    "Define plus and minus for Integers. Don't use the versions we created for $\\mathbb{N}$ as it did some funky things to get minus to behave correctly. Try and create these from scratch instead. It is recommended to use the lte(less than or equals) function we defined last week along with abs to make the job easier. \n",
    "\n",
    "Note that we have renamed the operations for natural numbers so that they are of the form:\n",
    "\n",
    "``` nat_<operation name> ```\n",
    "\n",
    "For instance, plus has been renamed to ``` nat_plus ```. This was done so we don't have namespace conflicts"
   ]
  },
  {
   "cell_type": "code",
   "execution_count": 16,
   "metadata": {
    "deletable": false,
    "nbgrader": {
     "checksum": "42b2f7491a08e62d6403440f98fd9778",
     "grade": false,
     "grade_id": "cell-3f813578972946cd",
     "locked": false,
     "schema_version": 1,
     "solution": true
    }
   },
   "outputs": [
    {
     "data": {
      "text/plain": [
       "plus: (x: Integer, y: Integer)Integer\n"
      ]
     },
     "execution_count": 16,
     "metadata": {},
     "output_type": "execute_result"
    }
   ],
   "source": [
    "// YOUR CODE HERE\n",
    "def plus(x : Integer, y : Integer) : Integer = (x, y) match {\n",
    "    case (Positive(a), Positive(b)) => Positive(nat_plus(abs(x), abs(y)))\n",
    "    case (Negative(a), Negative(b)) => Negative(nat_plus(abs(x), abs(y)))\n",
    "    case (_, Negative(b)) => nat_lte(abs(x), abs(y)) match {\n",
    "        case True => Negative(nat_minus(abs(y), abs(x)))\n",
    "        case False => Positive(nat_minus(abs(x), abs(y)))\n",
    "    }\n",
    "    case (_, Positive(b)) => nat_lte(abs(x), abs(y)) match {\n",
    "        case True => Positive(nat_minus(abs(y), abs(x)))\n",
    "        case False => Negative(nat_minus(abs(x), abs(y)))\n",
    "    }\n",
    "}\n"
   ]
  },
  {
   "cell_type": "code",
   "execution_count": 17,
   "metadata": {
    "deletable": false,
    "editable": false,
    "nbgrader": {
     "checksum": "e7a8cd622a53d3323058c3696ee2fc5b",
     "grade": true,
     "grade_id": "cell-816461e09874b44b",
     "locked": true,
     "points": 5,
     "schema_version": 1,
     "solution": false
    }
   },
   "outputs": [
    {
     "name": "stdout",
     "output_type": "stream",
     "text": [
      "\n",
      "*** Tests Passed (5 points) ***\n"
     ]
    }
   ],
   "source": [
    "assert(plus(Positive(three), Negative(six)) == Negative(three))\n",
    "assert(plus(Positive(three), Negative(two)) == Positive(one))\n",
    "assert(plus(Positive(five), Positive(three)) == Positive(eight))\n",
    "passed(5)"
   ]
  },
  {
   "cell_type": "markdown",
   "metadata": {
    "deletable": false,
    "editable": false,
    "nbgrader": {
     "checksum": "8c48509314146a4c3999006cf1063ea4",
     "grade": false,
     "grade_id": "cell-9d8b69b7575794e3",
     "locked": true,
     "schema_version": 1,
     "solution": false
    }
   },
   "source": [
    "### 1c: Subtraction\n",
    "Implement subtraction below\n",
    "Hint: Subtraction is very easy if you use ```plus``` and a ```negate```"
   ]
  },
  {
   "cell_type": "code",
   "execution_count": 18,
   "metadata": {
    "deletable": false,
    "nbgrader": {
     "checksum": "59c0017a1c3ce1cf5d62a1e5428e8a73",
     "grade": false,
     "grade_id": "cell-cdaed49e10461f7f",
     "locked": false,
     "schema_version": 1,
     "solution": true
    }
   },
   "outputs": [
    {
     "data": {
      "text/plain": [
       "minus: (x: Integer, y: Integer)Integer\n"
      ]
     },
     "execution_count": 18,
     "metadata": {},
     "output_type": "execute_result"
    }
   ],
   "source": [
    "// YOUR CODE HERE\n",
    "def minus(x : Integer, y : Integer) : Integer = (x, y) match {\n",
    "    case (Positive(x), Negative(y)) => plus(Positive(x), negate(Negative(y)))\n",
    "    case (Negative(x), Positive(y)) => plus(Negative(x), negate(Positive(y)))\n",
    "    case (Positive(x), Positive(y)) => plus(Positive(x), negate(Positive(y)))\n",
    "    case (Negative(x), Negative(y)) => plus(Negative(x), negate(Negative(y)))\n",
    "}"
   ]
  },
  {
   "cell_type": "code",
   "execution_count": 19,
   "metadata": {
    "deletable": false,
    "editable": false,
    "nbgrader": {
     "checksum": "aedc50c0186e760789fd90df0b44d3b2",
     "grade": true,
     "grade_id": "cell-2f31b73a07aa01f8",
     "locked": true,
     "points": 3,
     "schema_version": 1,
     "solution": false
    }
   },
   "outputs": [
    {
     "name": "stdout",
     "output_type": "stream",
     "text": [
      "\n",
      "*** Tests Passed (3 points) ***\n"
     ]
    }
   ],
   "source": [
    "assert(minus(Positive(three), Negative(six)) == Positive(nine))\n",
    "assert(minus(Positive(three), Negative(two)) == Positive(five))\n",
    "assert(minus(Positive(five), Positive(six)) == Negative(one))\n",
    "passed(3)"
   ]
  },
  {
   "cell_type": "markdown",
   "metadata": {
    "deletable": false,
    "editable": false,
    "nbgrader": {
     "checksum": "449bf76213c2190fb41deffd24229bfc",
     "grade": false,
     "grade_id": "cell-287c9c7fb66c1007",
     "locked": true,
     "schema_version": 1,
     "solution": false
    }
   },
   "source": [
    "### 1d: Multiplication\n",
    "\n",
    "Write multiplication for Integers. You should be able to use ```nat_mult``` to greatly simplify this"
   ]
  },
  {
   "cell_type": "code",
   "execution_count": 23,
   "metadata": {
    "deletable": false,
    "nbgrader": {
     "checksum": "7b9cd0d5c2ff02f9aaa25dfa21ac3180",
     "grade": false,
     "grade_id": "cell-1fb42ea8405c27ad",
     "locked": false,
     "schema_version": 1,
     "solution": true
    }
   },
   "outputs": [
    {
     "data": {
      "text/plain": [
       "mult: (x: Integer, y: Integer)Integer\n"
      ]
     },
     "execution_count": 23,
     "metadata": {},
     "output_type": "execute_result"
    }
   ],
   "source": [
    "// YOUR CODE HERE\n",
    "def mult(x : Integer, y : Integer) : Integer = (x, y) match {\n",
    "    case (Positive(a), Positive(b)) => Positive(nat_mult(abs(x), abs(y)))\n",
    "    case (Negative(a), Negative(b)) => Positive(nat_mult(abs(x), abs(y)))\n",
    "    case _ => Negative(nat_mult(abs(x), abs(y)))\n",
    "}"
   ]
  },
  {
   "cell_type": "code",
   "execution_count": 24,
   "metadata": {
    "deletable": false,
    "editable": false,
    "nbgrader": {
     "checksum": "a0696ef1db847fcd9414363174623d26",
     "grade": true,
     "grade_id": "cell-ab71ea516b48a773",
     "locked": true,
     "points": 5,
     "schema_version": 1,
     "solution": false
    }
   },
   "outputs": [
    {
     "name": "stdout",
     "output_type": "stream",
     "text": [
      "\n",
      "*** Tests Passed (5 points) ***\n"
     ]
    }
   ],
   "source": [
    "assert(mult(Positive(three), Negative(two)) == Negative(six))\n",
    "assert(mult(Positive(two), Positive(one)) == Positive(two))\n",
    "assert(mult(Negative(three), Negative(three)) == Positive(nine))\n",
    "passed(5)"
   ]
  },
  {
   "cell_type": "markdown",
   "metadata": {
    "deletable": false,
    "editable": false,
    "nbgrader": {
     "checksum": "9bad1bf56e07252a3629c346b270750f",
     "grade": false,
     "grade_id": "cell-debbb1bfeca4e70e",
     "locked": true,
     "schema_version": 1,
     "solution": false
    }
   },
   "source": [
    "### 1e: Exponentiation\n",
    "\n",
    "Recall that for ``pow`` we will restrict ourselves to only positive powers. Use the definition of `mult` from above so that your polarity(Positive/Negative) is correct. Recall the cases for $-x^n$ for even vs odd $n$. A hint for your base case: `pow(x, 0) = Positive( 1 )`"
   ]
  },
  {
   "cell_type": "code",
   "execution_count": 25,
   "metadata": {
    "deletable": false,
    "nbgrader": {
     "checksum": "1dcd9e16891a54531562aa8dcc871977",
     "grade": false,
     "grade_id": "cell-8bf97e036b7c5e3c",
     "locked": false,
     "schema_version": 1,
     "solution": true
    }
   },
   "outputs": [
    {
     "data": {
      "text/plain": [
       "pow: (x: Integer, p: Nat)Integer\n"
      ]
     },
     "execution_count": 25,
     "metadata": {},
     "output_type": "execute_result"
    }
   ],
   "source": [
    "// YOUR CODE HERE\n",
    "def pow(x : Integer, p : Nat) : Integer = (x, p) match {\n",
    "    case (x, Zero) => Positive(one)\n",
    "    case (_, Succ(y)) => mult(x, pow(x, y))\n",
    "}"
   ]
  },
  {
   "cell_type": "code",
   "execution_count": 26,
   "metadata": {
    "deletable": false,
    "editable": false,
    "nbgrader": {
     "checksum": "b91e75b6e728d02bdc2cb5a4f8f7b754",
     "grade": true,
     "grade_id": "cell-8bfc201c0fa1c3ab",
     "locked": true,
     "points": 4,
     "schema_version": 1,
     "solution": false
    }
   },
   "outputs": [
    {
     "name": "stdout",
     "output_type": "stream",
     "text": [
      "\n",
      "*** Tests Passed (3 points) ***\n"
     ]
    }
   ],
   "source": [
    "assert(pow(Negative(two), two) == Positive(four))\n",
    "assert(pow(Positive(three), one) == Positive(three))\n",
    "assert(pow(Negative(two), three) == Negative(eight))\n",
    "passed(3)"
   ]
  },
  {
   "cell_type": "markdown",
   "metadata": {},
   "source": [
    "# The Arithmetic Language: Our First Interpreter\n",
    "\n",
    "Now we are ready to define our first interpreter. We will define the Arithmetic language syntax below as a sealed trait. It will be your job to correctly construct the interpreter for it based on the inference rules we covered in class. Recall that each rule corresponds to a case in the `eval` function."
   ]
  },
  {
   "cell_type": "code",
   "execution_count": 29,
   "metadata": {
    "deletable": false,
    "editable": false,
    "nbgrader": {
     "checksum": "9aaac8e1acc8329cd9ed5b2bbceaf5d9",
     "grade": false,
     "grade_id": "cell-7f013ad0a4376aac",
     "locked": true,
     "schema_version": 1,
     "solution": false
    }
   },
   "outputs": [
    {
     "data": {
      "text/plain": [
       "defined trait Expr\n",
       "defined class Num\n",
       "defined class Plus\n",
       "defined class Minus\n",
       "defined class Mult\n",
       "defined class Pow\n"
      ]
     },
     "execution_count": 29,
     "metadata": {},
     "output_type": "execute_result"
    }
   ],
   "source": [
    "sealed trait Expr \n",
    "case class Num(x : Integer) extends Expr \n",
    "case class Plus(x : Expr, y : Expr) extends Expr\n",
    "case class Minus(x : Expr, y : Expr) extends Expr\n",
    "case class Mult(x : Expr, y : Expr) extends Expr\n",
    "case class Pow(x : Expr, y : Nat) extends Expr"
   ]
  },
  {
   "cell_type": "markdown",
   "metadata": {},
   "source": [
    "## Problem 2 (10 points)\n",
    "\n",
    "Now that we have defined the syntax for Arithmetic expressions. Go ahead and define the interpreter. We have given the signature for the function. (Bonus points if you define and use the helper function `eval-bin` that we discussed in class.\n",
    "\n",
    "Recall that the type of this interpreter should be $eval : \\text{Expr} \\rightarrow \\mathbb{Z}$"
   ]
  },
  {
   "cell_type": "code",
   "execution_count": 30,
   "metadata": {
    "deletable": false,
    "nbgrader": {
     "checksum": "45992d2c60726a4b73e75cd7906d1613",
     "grade": false,
     "grade_id": "cell-cd1a5c1ec38ae400",
     "locked": false,
     "schema_version": 1,
     "solution": true
    }
   },
   "outputs": [
    {
     "data": {
      "text/plain": [
       "eval_bin: (f: (Integer, Integer) => Integer, e1: Expr, e2: Expr)Integer\n",
       "eval: (x: Expr)Integer\n"
      ]
     },
     "execution_count": 30,
     "metadata": {},
     "output_type": "execute_result"
    }
   ],
   "source": [
    "// YOUR CODE HERE\n",
    "def eval_bin(f : (Integer, Integer) => Integer, e1 : Expr, e2 : Expr) = (e1, e2) match {\n",
    "    case (_, _) => f(eval(e1), eval(e2))\n",
    "}\n",
    "\n",
    "def eval(x : Expr) : Integer = x match {\n",
    "    case Num(n) => n\n",
    "    case Plus(n, m) => eval_bin(plus, n, m)\n",
    "    case Minus(n, m) => eval_bin(minus, n, m)\n",
    "    case Mult(n, m) => eval_bin(mult, n, m)\n",
    "    // Pow does not take (Int, Int) so eval_bin won't work\n",
    "    case Pow(n, m) => pow(eval(n), m)\n",
    "}"
   ]
  },
  {
   "cell_type": "code",
   "execution_count": 31,
   "metadata": {
    "deletable": false,
    "editable": false,
    "nbgrader": {
     "checksum": "a31a76cd139360955b146ce73630a810",
     "grade": true,
     "grade_id": "cell-14ceee2b601c4ef2",
     "locked": true,
     "points": 4,
     "schema_version": 1,
     "solution": false
    }
   },
   "outputs": [
    {
     "name": "stdout",
     "output_type": "stream",
     "text": [
      "\n",
      "*** Tests Passed (4 points) ***\n"
     ]
    },
    {
     "data": {
      "text/plain": [
       "null"
      ]
     },
     "execution_count": 31,
     "metadata": {},
     "output_type": "execute_result"
    }
   ],
   "source": [
    "val x: Expr = Num(Positive(six))\n",
    "assert(eval(x) == Positive(six))\n",
    "passed(4)"
   ]
  },
  {
   "cell_type": "code",
   "execution_count": 32,
   "metadata": {
    "deletable": false,
    "editable": false,
    "nbgrader": {
     "checksum": "58eebeb1e2d61b8f84ac40a7c1d376ed",
     "grade": true,
     "grade_id": "cell-5ab79956b85cc902",
     "locked": true,
     "points": 3,
     "schema_version": 1,
     "solution": false
    }
   },
   "outputs": [
    {
     "name": "stdout",
     "output_type": "stream",
     "text": [
      "\n",
      "*** Tests Passed (3 points) ***\n"
     ]
    },
    {
     "data": {
      "text/plain": [
       "null"
      ]
     },
     "execution_count": 32,
     "metadata": {},
     "output_type": "execute_result"
    }
   ],
   "source": [
    "val x2: Expr = Plus(Num(Positive(two)), Num(Positive(two)))\n",
    "assert(eval(x2) == Positive(four))\n",
    "passed(3)"
   ]
  },
  {
   "cell_type": "code",
   "execution_count": 33,
   "metadata": {
    "deletable": false,
    "editable": false,
    "nbgrader": {
     "checksum": "74ce055527c93554dc53294b1f593bb9",
     "grade": true,
     "grade_id": "cell-6b5e757e2dd296d2",
     "locked": true,
     "points": 3,
     "schema_version": 1,
     "solution": false
    }
   },
   "outputs": [
    {
     "name": "stdout",
     "output_type": "stream",
     "text": [
      "\n",
      "*** Tests Passed (3 points) ***\n"
     ]
    },
    {
     "data": {
      "text/plain": [
       "null"
      ]
     },
     "execution_count": 33,
     "metadata": {},
     "output_type": "execute_result"
    }
   ],
   "source": [
    "val x3: Expr = Mult(Plus(Num(Positive(two)), Num(Positive(two))), Num(Negative(two)))\n",
    "assert(eval(x3) == Negative(eight))\n",
    "passed(3)"
   ]
  },
  {
   "cell_type": "markdown",
   "metadata": {
    "deletable": false,
    "editable": false,
    "nbgrader": {
     "checksum": "55a28124ad5d5a16a8ec9db81357b593",
     "grade": false,
     "grade_id": "cell-c0793fcb256b6308",
     "locked": true,
     "schema_version": 1,
     "solution": false
    }
   },
   "source": [
    "## Problem 3 (10 points)\n",
    "Implement equality for $\\mathbb{B}$, $\\mathbb{N}$, $\\mathbb{Z}$, and $\\text{List}\\ a$\n",
    "\n",
    "Most should have the form:\n",
    "$$\n",
    "eq : A \\rightarrow A \\rightarrow \\mathbb{B}\n",
    "$$\n",
    "\n",
    "Where you will want to fill each $A$ with the type of equality you are defining"
   ]
  },
  {
   "cell_type": "markdown",
   "metadata": {
    "deletable": false,
    "editable": false,
    "nbgrader": {
     "checksum": "7402fed60f71e2286d14d302f49289ac",
     "grade": false,
     "grade_id": "cell-121c3973d7d1aa6c",
     "locked": true,
     "schema_version": 1,
     "solution": false
    }
   },
   "source": [
    "### 3a: $\\mathbb{B}$\n",
    "Implement `bool_eq`"
   ]
  },
  {
   "cell_type": "code",
   "execution_count": 35,
   "metadata": {
    "deletable": false,
    "nbgrader": {
     "checksum": "8643eb8fb90dd5f6a8df4219bdea4e29",
     "grade": false,
     "grade_id": "cell-2798ee2b3f2a50f6",
     "locked": false,
     "schema_version": 1,
     "solution": true
    }
   },
   "outputs": [
    {
     "data": {
      "text/plain": [
       "bool_eq: (x: Bool, y: Bool)Bool\n"
      ]
     },
     "execution_count": 35,
     "metadata": {},
     "output_type": "execute_result"
    }
   ],
   "source": [
    "// YOUR CODE HERE\n",
    "def bool_eq(x : Bool, y : Bool) : Bool = (x,y) match {\n",
    "    case (True, True) => True\n",
    "    case (False, False) => True\n",
    "    case (_, _) => False\n",
    "}"
   ]
  },
  {
   "cell_type": "code",
   "execution_count": 36,
   "metadata": {
    "deletable": false,
    "editable": false,
    "nbgrader": {
     "checksum": "44a69e1779307d16f6735636a6d24aea",
     "grade": true,
     "grade_id": "cell-722112b63bcac170",
     "locked": true,
     "points": 2,
     "schema_version": 1,
     "solution": false
    }
   },
   "outputs": [
    {
     "name": "stdout",
     "output_type": "stream",
     "text": [
      "\n",
      "*** Tests Passed (2 points) ***\n"
     ]
    }
   ],
   "source": [
    "assert(bool_eq(True, True) == True)\n",
    "assert(bool_eq(False, True) == False)\n",
    "assert(bool_eq(True, False) == False)\n",
    "assert(bool_eq(False, False) == True)\n",
    "passed(2)"
   ]
  },
  {
   "cell_type": "markdown",
   "metadata": {
    "deletable": false,
    "editable": false,
    "nbgrader": {
     "checksum": "03ecec47c93d48d51a0087172128f748",
     "grade": false,
     "grade_id": "cell-731fa3ea8ec6a853",
     "locked": true,
     "schema_version": 1,
     "solution": false
    }
   },
   "source": [
    "### 3b: $\\mathbb{N}$\n",
    "Implement `nat_eq`"
   ]
  },
  {
   "cell_type": "code",
   "execution_count": 37,
   "metadata": {
    "deletable": false,
    "nbgrader": {
     "checksum": "eb702a62a7be0f840cf0d2933f54911c",
     "grade": false,
     "grade_id": "cell-22169f8784478436",
     "locked": false,
     "schema_version": 1,
     "solution": true
    }
   },
   "outputs": [
    {
     "data": {
      "text/plain": [
       "nat_eq: (x: Nat, y: Nat)Bool\n"
      ]
     },
     "execution_count": 37,
     "metadata": {},
     "output_type": "execute_result"
    }
   ],
   "source": [
    "// YOUR CODE HERE\n",
    "def nat_eq(x: Nat, y : Nat) : Bool = (x, y) match {\n",
    "    case (Zero, Zero) => True\n",
    "    case (_, Zero) => False\n",
    "    case (Zero, _) => False\n",
    "    case (Succ(a), Succ(b)) => nat_eq(a, b)\n",
    "}"
   ]
  },
  {
   "cell_type": "code",
   "execution_count": 38,
   "metadata": {
    "deletable": false,
    "editable": false,
    "nbgrader": {
     "checksum": "f6e48954464dca2bfeecc7b1c57d08d9",
     "grade": true,
     "grade_id": "cell-0ce38fa2255b8c9d",
     "locked": true,
     "points": 2,
     "schema_version": 1,
     "solution": false
    }
   },
   "outputs": [
    {
     "name": "stdout",
     "output_type": "stream",
     "text": [
      "\n",
      "*** Tests Passed (3 points) ***\n"
     ]
    }
   ],
   "source": [
    "assert(nat_eq(ten, ten) == True)\n",
    "assert(nat_eq(ten, Zero) == False)\n",
    "assert(nat_eq(five, six) == False)\n",
    "passed(3)"
   ]
  },
  {
   "cell_type": "markdown",
   "metadata": {
    "deletable": false,
    "editable": false,
    "nbgrader": {
     "checksum": "95443e9ee3dcabb02c5f91c80ed424e4",
     "grade": false,
     "grade_id": "cell-18d15c3514b6ba66",
     "locked": true,
     "schema_version": 1,
     "solution": false
    }
   },
   "source": [
    "### 3c: $\\mathbb{Z}$\n",
    "Implement `int_eq`"
   ]
  },
  {
   "cell_type": "code",
   "execution_count": 39,
   "metadata": {
    "deletable": false,
    "nbgrader": {
     "checksum": "d62b4a2831f764370c2a13dfab8f280f",
     "grade": false,
     "grade_id": "cell-eab55be5227ceeaf",
     "locked": false,
     "schema_version": 1,
     "solution": true
    }
   },
   "outputs": [
    {
     "data": {
      "text/plain": [
       "int_eq: (x: Integer, y: Integer)Bool\n"
      ]
     },
     "execution_count": 39,
     "metadata": {},
     "output_type": "execute_result"
    }
   ],
   "source": [
    "// YOUR CODE HERE\n",
    "def int_eq(x : Integer, y : Integer) : Bool = (x, y) match {\n",
    "    case (Positive(Zero), Negative(Zero)) => True\n",
    "    case (Negative(Zero), Positive(Zero)) => True\n",
    "    case (Positive(a), Negative(b)) => False\n",
    "    case (Negative(a), Positive(b)) => False\n",
    "    case (Positive(a), Positive(b)) => nat_eq(a, b)\n",
    "    case (Negative(a), Negative(b)) => nat_eq(a, b)\n",
    "}"
   ]
  },
  {
   "cell_type": "code",
   "execution_count": 40,
   "metadata": {
    "deletable": false,
    "editable": false,
    "nbgrader": {
     "checksum": "923460d48d76597d67574d61c974c00f",
     "grade": true,
     "grade_id": "cell-f846b69e86a7d77f",
     "locked": true,
     "points": 2,
     "schema_version": 1,
     "solution": false
    }
   },
   "outputs": [
    {
     "name": "stdout",
     "output_type": "stream",
     "text": [
      "\n",
      "*** Tests Passed (3 points) ***\n"
     ]
    }
   ],
   "source": [
    "assert(int_eq(Positive(nine), Positive(nine)) == True)\n",
    "assert(int_eq(Negative(eight), Negative(eight)) == True)\n",
    "assert(int_eq(Positive(nine), Negative(nine)) == False)\n",
    "assert(int_eq(Positive(nine), Positive(Zero)) == False)\n",
    "assert(int_eq(Positive(five), Positive(six)) == False)\n",
    "passed(3)"
   ]
  },
  {
   "cell_type": "markdown",
   "metadata": {
    "deletable": false,
    "editable": false,
    "nbgrader": {
     "checksum": "7d2f4760c9354a943baf420e0ac3e22f",
     "grade": false,
     "grade_id": "cell-6f4aeb2f637c612e",
     "locked": true,
     "schema_version": 1,
     "solution": false
    }
   },
   "source": [
    "### 3d: $\\text{List}\\ a$\n",
    "Implement `list_eq`. Since lists are polymorphic, your function needs to take a third parameter which should be the `eq` function for the given $a$:\n",
    "$$\n",
    "eq : \\text{List}\\ A \\rightarrow \\text{List}\\ A \\rightarrow (A \\rightarrow A \\rightarrow \\mathbb{B}) \\rightarrow \\mathbb{B}\n",
    "$$"
   ]
  },
  {
   "cell_type": "code",
   "execution_count": 43,
   "metadata": {
    "deletable": false,
    "nbgrader": {
     "checksum": "b0d2f89384710da8e8432e228cbb88d8",
     "grade": false,
     "grade_id": "cell-7459289e4fe0f331",
     "locked": false,
     "schema_version": 1,
     "solution": true
    }
   },
   "outputs": [
    {
     "data": {
      "text/plain": [
       "list_eq: [A](x: List[A], y: List[A], eq: (A, A) => Bool)Bool\n"
      ]
     },
     "execution_count": 43,
     "metadata": {},
     "output_type": "execute_result"
    }
   ],
   "source": [
    "// YOUR CODE HERE\n",
    "def list_eq[A](x : List[A], y : List[A], eq : (A, A) => Bool) : Bool = (x, y) match {\n",
    "    case (Empty, Empty) => True\n",
    "    case (Empty, _) => False\n",
    "    case (_, Empty) => False\n",
    "    case (Cons(a, as), Cons(b, bs)) => eq(a, b) match {\n",
    "        case True => list_eq(as, bs, eq)\n",
    "        case False => False\n",
    "    }\n",
    "}"
   ]
  },
  {
   "cell_type": "code",
   "execution_count": 44,
   "metadata": {
    "deletable": false,
    "editable": false,
    "nbgrader": {
     "checksum": "1e69caa0d9b1ebcde834ad5c7d74e166",
     "grade": true,
     "grade_id": "cell-39a05cd0083a25bd",
     "locked": true,
     "points": 4,
     "schema_version": 1,
     "solution": false
    }
   },
   "outputs": [
    {
     "name": "stdout",
     "output_type": "stream",
     "text": [
      "\n",
      "*** Tests Passed (4 points) ***\n"
     ]
    }
   ],
   "source": [
    "assert(list_eq(Empty, Empty, nat_eq) == True)\n",
    "assert(list_eq(Empty, Empty, bool_eq) == True)\n",
    "assert(list_eq(Cons(True, Empty), Cons(True, Empty), bool_eq) == True)\n",
    "assert(list_eq(Cons(True, Empty), Empty, bool_eq) == False)\n",
    "assert(list_eq(Cons(True, Cons(False, Empty)), Cons(True, Cons(True, Empty)), bool_eq) == False)\n",
    "passed(4)"
   ]
  },
  {
   "cell_type": "code",
   "execution_count": null,
   "metadata": {},
   "outputs": [],
   "source": []
  }
 ],
 "metadata": {
  "kernelspec": {
   "display_name": "Scala",
   "language": "scala",
   "name": "scala"
  },
  "language_info": {
   "codemirror_mode": "text/x-scala",
   "file_extension": ".scala",
   "mimetype": "",
   "name": "Scala",
   "nbconverter_exporter": "",
   "version": "2.11.12"
  }
 },
 "nbformat": 4,
 "nbformat_minor": 2
}
